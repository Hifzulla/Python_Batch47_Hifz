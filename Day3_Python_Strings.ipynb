{
 "cells": [
  {
   "cell_type": "code",
   "execution_count": 18,
   "id": "2d84a688",
   "metadata": {},
   "outputs": [],
   "source": [
    "var_name = 'hifzulla A'\n",
    "var_name2= \"hifzulla AA\"\n",
    "var_name3= \"\"\"hifzulla AAA\"\"\""
   ]
  },
  {
   "cell_type": "code",
   "execution_count": 19,
   "id": "ffff9266",
   "metadata": {},
   "outputs": [
    {
     "name": "stdout",
     "output_type": "stream",
     "text": [
      "hifzulla A\n"
     ]
    }
   ],
   "source": [
    "print(var_name)"
   ]
  },
  {
   "cell_type": "code",
   "execution_count": 20,
   "id": "9395d34a",
   "metadata": {},
   "outputs": [
    {
     "name": "stdout",
     "output_type": "stream",
     "text": [
      "hifzulla AA\n"
     ]
    }
   ],
   "source": [
    "print(var_name2)"
   ]
  },
  {
   "cell_type": "code",
   "execution_count": 21,
   "id": "9adc4c04",
   "metadata": {},
   "outputs": [
    {
     "name": "stdout",
     "output_type": "stream",
     "text": [
      "hifzulla AAA\n"
     ]
    }
   ],
   "source": [
    "print(var_name3)"
   ]
  },
  {
   "cell_type": "code",
   "execution_count": 22,
   "id": "15bddda5",
   "metadata": {},
   "outputs": [
    {
     "name": "stdout",
     "output_type": "stream",
     "text": [
      "hifzulla A\n",
      "hifzulla AA\n",
      "hifzulla AAA\n"
     ]
    }
   ],
   "source": [
    "print(var_name)\n",
    "print(var_name2)\n",
    "print(var_name3)"
   ]
  },
  {
   "cell_type": "code",
   "execution_count": 23,
   "id": "da4a3d4c",
   "metadata": {},
   "outputs": [
    {
     "name": "stdout",
     "output_type": "stream",
     "text": [
      "Hifzulla A\n"
     ]
    }
   ],
   "source": [
    "print(var_name.title())"
   ]
  },
  {
   "cell_type": "code",
   "execution_count": 24,
   "id": "130ebeb2",
   "metadata": {},
   "outputs": [
    {
     "name": "stdout",
     "output_type": "stream",
     "text": [
      "HIFZULLA AA\n"
     ]
    }
   ],
   "source": [
    "print(var_name2.upper())"
   ]
  },
  {
   "cell_type": "code",
   "execution_count": 25,
   "id": "051e9cad",
   "metadata": {},
   "outputs": [
    {
     "name": "stdout",
     "output_type": "stream",
     "text": [
      "hifzulla aaa\n"
     ]
    }
   ],
   "source": [
    "print(var_name3.lower())"
   ]
  },
  {
   "cell_type": "code",
   "execution_count": 27,
   "id": "de531d73",
   "metadata": {},
   "outputs": [
    {
     "name": "stdout",
     "output_type": "stream",
     "text": [
      "hifzulla AAA\n"
     ]
    }
   ],
   "source": [
    "print(var_name3)"
   ]
  },
  {
   "cell_type": "code",
   "execution_count": 29,
   "id": "9faf56b4",
   "metadata": {},
   "outputs": [
    {
     "ename": "SyntaxError",
     "evalue": "EOL while scanning string literal (<ipython-input-29-18c55dce28cb>, line 1)",
     "output_type": "error",
     "traceback": [
      "\u001b[1;36m  File \u001b[1;32m\"<ipython-input-29-18c55dce28cb>\"\u001b[1;36m, line \u001b[1;32m1\u001b[0m\n\u001b[1;33m    f\" {Hifz}\u001b[0m\n\u001b[1;37m             ^\u001b[0m\n\u001b[1;31mSyntaxError\u001b[0m\u001b[1;31m:\u001b[0m EOL while scanning string literal\n"
     ]
    }
   ],
   "source": [
    "f\" {Hifz}"
   ]
  },
  {
   "cell_type": "code",
   "execution_count": 52,
   "id": "56bd42f0",
   "metadata": {},
   "outputs": [],
   "source": [
    "f_name = 'hifz'"
   ]
  },
  {
   "cell_type": "code",
   "execution_count": 31,
   "id": "cc5f49c5",
   "metadata": {},
   "outputs": [],
   "source": [
    "l_name = 'A'\n"
   ]
  },
  {
   "cell_type": "code",
   "execution_count": 32,
   "id": "980b128d",
   "metadata": {},
   "outputs": [
    {
     "ename": "SyntaxError",
     "evalue": "EOL while scanning string literal (<ipython-input-32-a43ec3a3052a>, line 1)",
     "output_type": "error",
     "traceback": [
      "\u001b[1;36m  File \u001b[1;32m\"<ipython-input-32-a43ec3a3052a>\"\u001b[1;36m, line \u001b[1;32m1\u001b[0m\n\u001b[1;33m    full_name = f\" {f_name} {l_name}\u001b[0m\n\u001b[1;37m                                    ^\u001b[0m\n\u001b[1;31mSyntaxError\u001b[0m\u001b[1;31m:\u001b[0m EOL while scanning string literal\n"
     ]
    }
   ],
   "source": [
    "full_name = f\" {f_name} {l_name}"
   ]
  },
  {
   "cell_type": "code",
   "execution_count": 54,
   "id": "238b0d62",
   "metadata": {},
   "outputs": [],
   "source": [
    "full_name = f\" {f_name} {l_name}\""
   ]
  },
  {
   "cell_type": "code",
   "execution_count": 55,
   "id": "e98ebdd2",
   "metadata": {},
   "outputs": [
    {
     "name": "stdout",
     "output_type": "stream",
     "text": [
      " hifz A\n"
     ]
    }
   ],
   "source": [
    "print(full_name)"
   ]
  },
  {
   "cell_type": "code",
   "execution_count": 56,
   "id": "588bb354",
   "metadata": {},
   "outputs": [
    {
     "ename": "NameError",
     "evalue": "name 'Print' is not defined",
     "output_type": "error",
     "traceback": [
      "\u001b[1;31m---------------------------------------------------------------------------\u001b[0m",
      "\u001b[1;31mNameError\u001b[0m                                 Traceback (most recent call last)",
      "\u001b[1;32m<ipython-input-56-42d2ef8f3e1c>\u001b[0m in \u001b[0;36m<module>\u001b[1;34m\u001b[0m\n\u001b[1;32m----> 1\u001b[1;33m \u001b[0mPrint\u001b[0m\u001b[1;33m(\u001b[0m\u001b[1;34mf\"Welcome to Python Course, {full_name}\"\u001b[0m\u001b[1;33m)\u001b[0m\u001b[1;33m\u001b[0m\u001b[1;33m\u001b[0m\u001b[0m\n\u001b[0m",
      "\u001b[1;31mNameError\u001b[0m: name 'Print' is not defined"
     ]
    }
   ],
   "source": [
    "Print(f\"Welcome to Python Course, {full_name}\")\n"
   ]
  },
  {
   "cell_type": "code",
   "execution_count": 57,
   "id": "ec3e772c",
   "metadata": {},
   "outputs": [
    {
     "name": "stdout",
     "output_type": "stream",
     "text": [
      "Welcome to Python Course,  hifz A\n"
     ]
    }
   ],
   "source": [
    "print(f\"Welcome to Python Course, {full_name}\")"
   ]
  },
  {
   "cell_type": "code",
   "execution_count": 58,
   "id": "1df8b864",
   "metadata": {},
   "outputs": [
    {
     "ename": "SyntaxError",
     "evalue": "unexpected character after line continuation character (<ipython-input-58-9df0727a8279>, line 1)",
     "output_type": "error",
     "traceback": [
      "\u001b[1;36m  File \u001b[1;32m\"<ipython-input-58-9df0727a8279>\"\u001b[1;36m, line \u001b[1;32m1\u001b[0m\n\u001b[1;33m    print(f\"Welcome to Python Course, {full_name}\" \\n , \"Your trainer is\" ,\\t )\u001b[0m\n\u001b[1;37m                                                                               ^\u001b[0m\n\u001b[1;31mSyntaxError\u001b[0m\u001b[1;31m:\u001b[0m unexpected character after line continuation character\n"
     ]
    }
   ],
   "source": [
    "print(f\"Welcome to Python Course, {full_name}\" \\n , \"Your trainer is\" ,\\t )"
   ]
  },
  {
   "cell_type": "code",
   "execution_count": 59,
   "id": "7d3317bb",
   "metadata": {},
   "outputs": [
    {
     "ename": "SyntaxError",
     "evalue": "unexpected character after line continuation character (<ipython-input-59-852bd0334324>, line 2)",
     "output_type": "error",
     "traceback": [
      "\u001b[1;36m  File \u001b[1;32m\"<ipython-input-59-852bd0334324>\"\u001b[1;36m, line \u001b[1;32m2\u001b[0m\n\u001b[1;33m    print(f\"Welcome to Python Course, {full_name}\" \\n , \"Your trainer is\" ,\\t ,trainer)\u001b[0m\n\u001b[1;37m                                                                                       ^\u001b[0m\n\u001b[1;31mSyntaxError\u001b[0m\u001b[1;31m:\u001b[0m unexpected character after line continuation character\n"
     ]
    }
   ],
   "source": [
    "trainer = \"Faiyaz\"\n",
    "print(f\"Welcome to Python Course, {full_name}\" \\n , \"Your trainer is\" ,\\t ,trainer)"
   ]
  },
  {
   "cell_type": "code",
   "execution_count": 60,
   "id": "a42001d7",
   "metadata": {},
   "outputs": [
    {
     "ename": "SyntaxError",
     "evalue": "unexpected character after line continuation character (<ipython-input-60-ac4f071a2d2d>, line 2)",
     "output_type": "error",
     "traceback": [
      "\u001b[1;36m  File \u001b[1;32m\"<ipython-input-60-ac4f071a2d2d>\"\u001b[1;36m, line \u001b[1;32m2\u001b[0m\n\u001b[1;33m    print(f\"Welcome to Python Course, {full_name}\" \\n , \"Your trainer is\" ,\\t ,{trainer})\u001b[0m\n\u001b[1;37m                                                                                         ^\u001b[0m\n\u001b[1;31mSyntaxError\u001b[0m\u001b[1;31m:\u001b[0m unexpected character after line continuation character\n"
     ]
    }
   ],
   "source": [
    "trainer = \"Faiyaz\"\n",
    "print(f\"Welcome to Python Course, {full_name}\" \\n , \"Your trainer is\" ,\\t ,{trainer})"
   ]
  },
  {
   "cell_type": "code",
   "execution_count": 66,
   "id": "6778a73d",
   "metadata": {},
   "outputs": [
    {
     "name": "stdout",
     "output_type": "stream",
     "text": [
      "Welcome to Python Course,  hifz a \n",
      "Your trainer is \t Mr. Faiyaz\n"
     ]
    }
   ],
   "source": [
    "trainer = \"mr. faiyaz\"\n",
    "print(f\"Welcome to Python Course, {full_name.lower()} \\nYour trainer is \\t {trainer.title()}\")"
   ]
  },
  {
   "cell_type": "code",
   "execution_count": 65,
   "id": "7dd14d1f",
   "metadata": {},
   "outputs": [
    {
     "name": "stdout",
     "output_type": "stream",
     "text": [
      "Welcome to Python Course,  HIFZ A \n",
      "Your trainer is \t Mr. Faiyaz\n"
     ]
    }
   ],
   "source": [
    "print(f\"Welcome to Python Course, {full_name.upper()} \\nYour trainer is \\t {trainer.title()}\")"
   ]
  },
  {
   "cell_type": "code",
   "execution_count": null,
   "id": "435c7679",
   "metadata": {},
   "outputs": [],
   "source": []
  }
 ],
 "metadata": {
  "kernelspec": {
   "display_name": "Python 3",
   "language": "python",
   "name": "python3"
  },
  "language_info": {
   "codemirror_mode": {
    "name": "ipython",
    "version": 3
   },
   "file_extension": ".py",
   "mimetype": "text/x-python",
   "name": "python",
   "nbconvert_exporter": "python",
   "pygments_lexer": "ipython3",
   "version": "3.8.8"
  }
 },
 "nbformat": 4,
 "nbformat_minor": 5
}
