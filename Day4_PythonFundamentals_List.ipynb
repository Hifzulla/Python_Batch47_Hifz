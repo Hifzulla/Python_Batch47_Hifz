{
 "cells": [
  {
   "cell_type": "code",
   "execution_count": 1,
   "id": "3763ac27",
   "metadata": {},
   "outputs": [],
   "source": [
    "family = ['father','mother','son']"
   ]
  },
  {
   "cell_type": "code",
   "execution_count": 2,
   "id": "74efae5f",
   "metadata": {},
   "outputs": [
    {
     "name": "stdout",
     "output_type": "stream",
     "text": [
      "['father', 'mother', 'son']\n"
     ]
    }
   ],
   "source": [
    "print(family)"
   ]
  },
  {
   "cell_type": "code",
   "execution_count": 3,
   "id": "df38844c",
   "metadata": {},
   "outputs": [
    {
     "name": "stdout",
     "output_type": "stream",
     "text": [
      "<built-in method index of list object at 0x000001BFB7C8EA40>\n"
     ]
    }
   ],
   "source": [
    "print(family.index\n",
    "     )"
   ]
  },
  {
   "cell_type": "code",
   "execution_count": 4,
   "id": "8bca610f",
   "metadata": {},
   "outputs": [
    {
     "data": {
      "text/plain": [
       "list"
      ]
     },
     "execution_count": 4,
     "metadata": {},
     "output_type": "execute_result"
    }
   ],
   "source": [
    "type(family)"
   ]
  },
  {
   "cell_type": "code",
   "execution_count": 5,
   "id": "68422cb7",
   "metadata": {},
   "outputs": [
    {
     "name": "stdout",
     "output_type": "stream",
     "text": [
      "mother\n"
     ]
    }
   ],
   "source": [
    "print(family[1])"
   ]
  },
  {
   "cell_type": "code",
   "execution_count": 6,
   "id": "379cdb4d",
   "metadata": {},
   "outputs": [
    {
     "data": {
      "text/plain": [
       "'Father'"
      ]
     },
     "execution_count": 6,
     "metadata": {},
     "output_type": "execute_result"
    }
   ],
   "source": [
    "family[0].title()"
   ]
  },
  {
   "cell_type": "code",
   "execution_count": 7,
   "id": "7a6de47d",
   "metadata": {},
   "outputs": [
    {
     "name": "stdout",
     "output_type": "stream",
     "text": [
      "['father', 'mother', 'son']\n"
     ]
    }
   ],
   "source": [
    "print(family)"
   ]
  },
  {
   "cell_type": "code",
   "execution_count": 8,
   "id": "0c1d9749",
   "metadata": {},
   "outputs": [],
   "source": [
    "family.append('daughter')"
   ]
  },
  {
   "cell_type": "code",
   "execution_count": 9,
   "id": "b669fbb9",
   "metadata": {},
   "outputs": [
    {
     "name": "stdout",
     "output_type": "stream",
     "text": [
      "['father', 'mother', 'son', 'daughter']\n"
     ]
    }
   ],
   "source": [
    "print(family)"
   ]
  },
  {
   "cell_type": "code",
   "execution_count": 10,
   "id": "489ebe47",
   "metadata": {},
   "outputs": [],
   "source": [
    "family.insert(0,'grandpa')"
   ]
  },
  {
   "cell_type": "code",
   "execution_count": 11,
   "id": "e18bd87e",
   "metadata": {},
   "outputs": [
    {
     "name": "stdout",
     "output_type": "stream",
     "text": [
      "['grandpa', 'father', 'mother', 'son', 'daughter']\n"
     ]
    }
   ],
   "source": [
    "print(family)"
   ]
  },
  {
   "cell_type": "code",
   "execution_count": 12,
   "id": "28b939dd",
   "metadata": {},
   "outputs": [
    {
     "ename": "SyntaxError",
     "evalue": "invalid syntax (<ipython-input-12-acff1becb1e5>, line 1)",
     "output_type": "error",
     "traceback": [
      "\u001b[1;36m  File \u001b[1;32m\"<ipython-input-12-acff1becb1e5>\"\u001b[1;36m, line \u001b[1;32m1\u001b[0m\n\u001b[1;33m    family.('neighbor')\u001b[0m\n\u001b[1;37m           ^\u001b[0m\n\u001b[1;31mSyntaxError\u001b[0m\u001b[1;31m:\u001b[0m invalid syntax\n"
     ]
    }
   ],
   "source": [
    "family.('neighbor')"
   ]
  },
  {
   "cell_type": "code",
   "execution_count": 13,
   "id": "166a252a",
   "metadata": {},
   "outputs": [],
   "source": [
    "family.append('neighbor')"
   ]
  },
  {
   "cell_type": "code",
   "execution_count": 14,
   "id": "ea1ae30a",
   "metadata": {},
   "outputs": [
    {
     "name": "stdout",
     "output_type": "stream",
     "text": [
      "['grandpa', 'father', 'mother', 'son', 'daughter', 'neighbor']\n"
     ]
    }
   ],
   "source": [
    "print(family)"
   ]
  },
  {
   "cell_type": "code",
   "execution_count": 15,
   "id": "b5ec9526",
   "metadata": {},
   "outputs": [],
   "source": [
    "templist = family.pop"
   ]
  },
  {
   "cell_type": "code",
   "execution_count": 16,
   "id": "cf25a711",
   "metadata": {},
   "outputs": [
    {
     "name": "stdout",
     "output_type": "stream",
     "text": [
      "['grandpa', 'father', 'mother', 'son', 'daughter', 'neighbor']\n"
     ]
    }
   ],
   "source": [
    "print(family)"
   ]
  },
  {
   "cell_type": "code",
   "execution_count": 17,
   "id": "ec48856f",
   "metadata": {},
   "outputs": [
    {
     "ename": "SyntaxError",
     "evalue": "invalid syntax (<ipython-input-17-79cd5a33abc9>, line 1)",
     "output_type": "error",
     "traceback": [
      "\u001b[1;36m  File \u001b[1;32m\"<ipython-input-17-79cd5a33abc9>\"\u001b[1;36m, line \u001b[1;32m1\u001b[0m\n\u001b[1;33m    templist.del()\u001b[0m\n\u001b[1;37m             ^\u001b[0m\n\u001b[1;31mSyntaxError\u001b[0m\u001b[1;31m:\u001b[0m invalid syntax\n"
     ]
    }
   ],
   "source": [
    "templist.del()"
   ]
  },
  {
   "cell_type": "code",
   "execution_count": 18,
   "id": "998994ac",
   "metadata": {},
   "outputs": [],
   "source": [
    "templist = family.pop()"
   ]
  },
  {
   "cell_type": "code",
   "execution_count": 19,
   "id": "b09e157d",
   "metadata": {},
   "outputs": [
    {
     "name": "stdout",
     "output_type": "stream",
     "text": [
      "['grandpa', 'father', 'mother', 'son', 'daughter']\n"
     ]
    }
   ],
   "source": [
    "print(family)"
   ]
  },
  {
   "cell_type": "code",
   "execution_count": 20,
   "id": "c4cb0109",
   "metadata": {},
   "outputs": [
    {
     "name": "stdout",
     "output_type": "stream",
     "text": [
      "neighbor\n"
     ]
    }
   ],
   "source": [
    "print(templist)"
   ]
  },
  {
   "cell_type": "code",
   "execution_count": 21,
   "id": "8a7dbbce",
   "metadata": {},
   "outputs": [
    {
     "ename": "SyntaxError",
     "evalue": "invalid syntax (<ipython-input-21-79cd5a33abc9>, line 1)",
     "output_type": "error",
     "traceback": [
      "\u001b[1;36m  File \u001b[1;32m\"<ipython-input-21-79cd5a33abc9>\"\u001b[1;36m, line \u001b[1;32m1\u001b[0m\n\u001b[1;33m    templist.del()\u001b[0m\n\u001b[1;37m             ^\u001b[0m\n\u001b[1;31mSyntaxError\u001b[0m\u001b[1;31m:\u001b[0m invalid syntax\n"
     ]
    }
   ],
   "source": [
    "templist.del()"
   ]
  },
  {
   "cell_type": "code",
   "execution_count": 22,
   "id": "852607a6",
   "metadata": {},
   "outputs": [
    {
     "ename": "SyntaxError",
     "evalue": "invalid syntax (<ipython-input-22-cf1d637e29af>, line 1)",
     "output_type": "error",
     "traceback": [
      "\u001b[1;36m  File \u001b[1;32m\"<ipython-input-22-cf1d637e29af>\"\u001b[1;36m, line \u001b[1;32m1\u001b[0m\n\u001b[1;33m    templist.del[0]\u001b[0m\n\u001b[1;37m             ^\u001b[0m\n\u001b[1;31mSyntaxError\u001b[0m\u001b[1;31m:\u001b[0m invalid syntax\n"
     ]
    }
   ],
   "source": [
    "templist.del[0]"
   ]
  },
  {
   "cell_type": "code",
   "execution_count": 23,
   "id": "45ce5a44",
   "metadata": {},
   "outputs": [
    {
     "name": "stdout",
     "output_type": "stream",
     "text": [
      "neighbor\n"
     ]
    }
   ],
   "source": [
    "print(templist)"
   ]
  },
  {
   "cell_type": "code",
   "execution_count": 24,
   "id": "28477fba",
   "metadata": {},
   "outputs": [
    {
     "name": "stdout",
     "output_type": "stream",
     "text": [
      "['grandpa', 'father', 'mother', 'son', 'daughter']\n"
     ]
    }
   ],
   "source": [
    "print(family)"
   ]
  },
  {
   "cell_type": "code",
   "execution_count": 27,
   "id": "721525cb",
   "metadata": {},
   "outputs": [
    {
     "ename": "SyntaxError",
     "evalue": "invalid syntax (<ipython-input-27-e7741d92239c>, line 1)",
     "output_type": "error",
     "traceback": [
      "\u001b[1;36m  File \u001b[1;32m\"<ipython-input-27-e7741d92239c>\"\u001b[1;36m, line \u001b[1;32m1\u001b[0m\n\u001b[1;33m    templist.del[]\u001b[0m\n\u001b[1;37m             ^\u001b[0m\n\u001b[1;31mSyntaxError\u001b[0m\u001b[1;31m:\u001b[0m invalid syntax\n"
     ]
    }
   ],
   "source": [
    "templist.del[]"
   ]
  },
  {
   "cell_type": "code",
   "execution_count": 28,
   "id": "6b0849ef",
   "metadata": {},
   "outputs": [
    {
     "ename": "SyntaxError",
     "evalue": "invalid syntax (<ipython-input-28-ddf948ad1d99>, line 1)",
     "output_type": "error",
     "traceback": [
      "\u001b[1;36m  File \u001b[1;32m\"<ipython-input-28-ddf948ad1d99>\"\u001b[1;36m, line \u001b[1;32m1\u001b[0m\n\u001b[1;33m    templist.del(0)\u001b[0m\n\u001b[1;37m             ^\u001b[0m\n\u001b[1;31mSyntaxError\u001b[0m\u001b[1;31m:\u001b[0m invalid syntax\n"
     ]
    }
   ],
   "source": [
    "templist.del(0)"
   ]
  },
  {
   "cell_type": "code",
   "execution_count": 29,
   "id": "68c51ebe",
   "metadata": {},
   "outputs": [
    {
     "ename": "TypeError",
     "evalue": "'str' object doesn't support item deletion",
     "output_type": "error",
     "traceback": [
      "\u001b[1;31m---------------------------------------------------------------------------\u001b[0m",
      "\u001b[1;31mTypeError\u001b[0m                                 Traceback (most recent call last)",
      "\u001b[1;32m<ipython-input-29-020de5fd2ce4>\u001b[0m in \u001b[0;36m<module>\u001b[1;34m\u001b[0m\n\u001b[1;32m----> 1\u001b[1;33m \u001b[1;32mdel\u001b[0m \u001b[0mtemplist\u001b[0m\u001b[1;33m[\u001b[0m\u001b[1;36m0\u001b[0m\u001b[1;33m]\u001b[0m\u001b[1;33m\u001b[0m\u001b[1;33m\u001b[0m\u001b[0m\n\u001b[0m",
      "\u001b[1;31mTypeError\u001b[0m: 'str' object doesn't support item deletion"
     ]
    }
   ],
   "source": [
    "del templist[0]"
   ]
  },
  {
   "cell_type": "code",
   "execution_count": 30,
   "id": "3792eeb9",
   "metadata": {},
   "outputs": [],
   "source": [
    "family.append('neighbor')"
   ]
  },
  {
   "cell_type": "code",
   "execution_count": 31,
   "id": "3107122b",
   "metadata": {},
   "outputs": [
    {
     "name": "stdout",
     "output_type": "stream",
     "text": [
      "['grandpa', 'father', 'mother', 'son', 'daughter', 'neighbor']\n"
     ]
    }
   ],
   "source": [
    "print(family)"
   ]
  },
  {
   "cell_type": "code",
   "execution_count": 32,
   "id": "6bc76d00",
   "metadata": {},
   "outputs": [],
   "source": [
    "del family[5\n",
    "          ]"
   ]
  },
  {
   "cell_type": "code",
   "execution_count": 33,
   "id": "897a0534",
   "metadata": {},
   "outputs": [
    {
     "name": "stdout",
     "output_type": "stream",
     "text": [
      "['grandpa', 'father', 'mother', 'son', 'daughter']\n"
     ]
    }
   ],
   "source": [
    "print(family)"
   ]
  },
  {
   "cell_type": "code",
   "execution_count": 34,
   "id": "d749848b",
   "metadata": {},
   "outputs": [
    {
     "ename": "AttributeError",
     "evalue": "'list' object has no attribute 'title'",
     "output_type": "error",
     "traceback": [
      "\u001b[1;31m---------------------------------------------------------------------------\u001b[0m",
      "\u001b[1;31mAttributeError\u001b[0m                            Traceback (most recent call last)",
      "\u001b[1;32m<ipython-input-34-3184ec72d1a1>\u001b[0m in \u001b[0;36m<module>\u001b[1;34m\u001b[0m\n\u001b[1;32m----> 1\u001b[1;33m \u001b[0mprint\u001b[0m\u001b[1;33m(\u001b[0m\u001b[0mfamily\u001b[0m\u001b[1;33m.\u001b[0m\u001b[0mtitle\u001b[0m\u001b[1;33m(\u001b[0m\u001b[1;33m)\u001b[0m\u001b[1;33m)\u001b[0m\u001b[1;33m\u001b[0m\u001b[1;33m\u001b[0m\u001b[0m\n\u001b[0m",
      "\u001b[1;31mAttributeError\u001b[0m: 'list' object has no attribute 'title'"
     ]
    }
   ],
   "source": [
    "print(family.title())"
   ]
  },
  {
   "cell_type": "code",
   "execution_count": 35,
   "id": "2800b795",
   "metadata": {},
   "outputs": [
    {
     "name": "stdout",
     "output_type": "stream",
     "text": [
      "Father\n"
     ]
    }
   ],
   "source": [
    "print(family[1].title())"
   ]
  },
  {
   "cell_type": "code",
   "execution_count": 36,
   "id": "60cc68c2",
   "metadata": {},
   "outputs": [
    {
     "data": {
      "text/plain": [
       "'Grandpa'"
      ]
     },
     "execution_count": 36,
     "metadata": {},
     "output_type": "execute_result"
    }
   ],
   "source": [
    "family[0].title()"
   ]
  },
  {
   "cell_type": "code",
   "execution_count": 37,
   "id": "fc92c187",
   "metadata": {},
   "outputs": [
    {
     "name": "stdout",
     "output_type": "stream",
     "text": [
      "['grandpa', 'father', 'mother', 'son', 'daughter']\n"
     ]
    }
   ],
   "source": [
    "print(family)"
   ]
  },
  {
   "cell_type": "code",
   "execution_count": 38,
   "id": "4acc6e5b",
   "metadata": {},
   "outputs": [
    {
     "name": "stdout",
     "output_type": "stream",
     "text": [
      "Good day!!\n"
     ]
    }
   ],
   "source": [
    "print('Good day!!')"
   ]
  },
  {
   "cell_type": "code",
   "execution_count": null,
   "id": "a9e62b68",
   "metadata": {},
   "outputs": [],
   "source": []
  }
 ],
 "metadata": {
  "kernelspec": {
   "display_name": "Python 3",
   "language": "python",
   "name": "python3"
  },
  "language_info": {
   "codemirror_mode": {
    "name": "ipython",
    "version": 3
   },
   "file_extension": ".py",
   "mimetype": "text/x-python",
   "name": "python",
   "nbconvert_exporter": "python",
   "pygments_lexer": "ipython3",
   "version": "3.8.8"
  }
 },
 "nbformat": 4,
 "nbformat_minor": 5
}
